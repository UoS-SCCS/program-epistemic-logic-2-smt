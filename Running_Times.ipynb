{
 "cells": [
  {
   "cell_type": "markdown",
   "id": "42898335",
   "metadata": {},
   "source": [
    "## Cheryl's Birthday"
   ]
  },
  {
   "cell_type": "code",
   "execution_count": 3,
   "id": "99c1f637",
   "metadata": {
    "scrolled": true
   },
   "outputs": [
    {
     "name": "stdout",
     "output_type": "stream",
     "text": [
      "sat\n",
      "--- 1.2814888954162598 seconds ---\n",
      "[m = 7, n = 16]\n",
      "None\n"
     ]
    }
   ],
   "source": [
    "!python z3cherylsBirthday.py"
   ]
  },
  {
   "cell_type": "markdown",
   "id": "e773baff",
   "metadata": {},
   "source": [
    "## Dining Cryptographers"
   ]
  },
  {
   "cell_type": "code",
   "execution_count": 5,
   "id": "19c001d9",
   "metadata": {},
   "outputs": [
    {
     "name": "stdout",
     "output_type": "stream",
     "text": [
      "sat\n",
      "--- 0.6032199859619141 seconds ---\n",
      "[m = 7, n = 16]\n",
      "None\n"
     ]
    }
   ],
   "source": [
    "!python cvc5cherylsBirthday.py"
   ]
  },
  {
   "cell_type": "markdown",
   "id": "edc1a9e9",
   "metadata": {},
   "source": [
    "### Performance of our $\\tau_{wp}$ with Z3"
   ]
  },
  {
   "cell_type": "markdown",
   "id": "93a3b374",
   "metadata": {},
   "source": [
    "$\\beta_1$ with $\\tau_{wp}$"
   ]
  },
  {
   "cell_type": "code",
   "execution_count": 22,
   "id": "552ca662",
   "metadata": {},
   "outputs": [
    {
     "name": "stdout",
     "output_type": "stream",
     "text": [
      "unsat\n",
      "n = 10\n",
      "--- 0.05810117721557617 seconds ---\n",
      "unsat\n",
      "n = 50\n",
      "--- 31.476871013641357 seconds ---\n",
      "^C\n",
      "unknown\n",
      "n = 100\n",
      "--- 518.6445350646973 seconds ---\n"
     ]
    }
   ],
   "source": [
    "for ncrypto in [10,50,100]:\n",
    "    !python z3dc.py a1 {ncrypto}"
   ]
  },
  {
   "cell_type": "markdown",
   "id": "9c710108",
   "metadata": {},
   "source": [
    "$\\beta_2$ with $\\tau_{wp}$"
   ]
  },
  {
   "cell_type": "code",
   "execution_count": 14,
   "id": "e1810afd",
   "metadata": {
    "scrolled": false
   },
   "outputs": [
    {
     "name": "stdout",
     "output_type": "stream",
     "text": [
      "unsat\n",
      "n = 10\n",
      "--- 0.017396926879882812 seconds ---\n",
      "unsat\n",
      "n = 50\n",
      "--- 0.05828595161437988 seconds ---\n",
      "unsat\n",
      "n = 100\n",
      "--- 0.1539907455444336 seconds ---\n",
      "unsat\n",
      "n = 200\n",
      "--- 1.2757420539855957 seconds ---\n"
     ]
    }
   ],
   "source": [
    "for ncrypto in [10,50,100,200]:\n",
    "    !python z3dc.py a2 {ncrypto}"
   ]
  },
  {
   "cell_type": "markdown",
   "id": "2a3d4f30",
   "metadata": {},
   "source": [
    "$\\beta_3$ with $\\tau_{wp}$"
   ]
  },
  {
   "cell_type": "code",
   "execution_count": 5,
   "id": "e678ec04",
   "metadata": {
    "scrolled": false
   },
   "outputs": [
    {
     "name": "stdout",
     "output_type": "stream",
     "text": [
      "sat\n",
      "n = 10\n",
      "--- 0.017102956771850586 seconds ---\n",
      "sat\n",
      "n = 50\n",
      "--- 0.030363082885742188 seconds ---\n",
      "sat\n",
      "n = 100\n",
      "--- 0.07114696502685547 seconds ---\n",
      "sat\n",
      "n = 200\n",
      "--- 0.30924296379089355 seconds ---\n"
     ]
    }
   ],
   "source": [
    "for ncrypto in [10,50,100,200]:\n",
    "    !python z3dc.py a3 {ncrypto}"
   ]
  },
  {
   "cell_type": "markdown",
   "id": "4b3b97d1",
   "metadata": {},
   "source": [
    "$\\gamma$ with $\\tau_{wp}$"
   ]
  },
  {
   "cell_type": "markdown",
   "id": "fa050807",
   "metadata": {},
   "source": [
    "### Performance of our $\\tau_{SP}$ (Gorogiannis _et al_) with Z3"
   ]
  },
  {
   "cell_type": "markdown",
   "id": "6d8def8b",
   "metadata": {},
   "source": [
    "$\\beta_1$ with $\\tau_{SP}$"
   ]
  },
  {
   "cell_type": "code",
   "execution_count": null,
   "id": "ef5abe19",
   "metadata": {
    "scrolled": false
   },
   "outputs": [
    {
     "name": "stdout",
     "output_type": "stream",
     "text": [
      "unsat\n",
      "n = 10\n",
      "--- 4.868653059005737 seconds ---\n",
      "^C\n",
      "unknown\n",
      "n = 50\n",
      "--- 732.3504371643066 seconds ---\n"
     ]
    }
   ],
   "source": [
    "for ncrypto in [10,50,100]:\n",
    "    !python z3dcSP.py a1 {ncrypto}"
   ]
  },
  {
   "cell_type": "markdown",
   "id": "193107dd",
   "metadata": {},
   "source": [
    "$\\beta_2$ with $\\tau_{SP}$"
   ]
  },
  {
   "cell_type": "code",
   "execution_count": 12,
   "id": "276733eb",
   "metadata": {
    "scrolled": true
   },
   "outputs": [
    {
     "name": "stdout",
     "output_type": "stream",
     "text": [
      "unsat\n",
      "n = 10\n",
      "--- 0.01643991470336914 seconds ---\n",
      "unsat\n",
      "n = 50\n",
      "--- 0.06025338172912598 seconds ---\n",
      "unsat\n",
      "n = 100\n",
      "--- 0.1645677089691162 seconds ---\n",
      "unsat\n",
      "n = 200\n",
      "--- 0.6645591259002686 seconds ---\n",
      "unsat\n",
      "n = 300\n",
      "--- 1.686525821685791 seconds ---\n"
     ]
    }
   ],
   "source": [
    "for ncrypto in [10,50,100,200,300]:\n",
    "    !python z3dcSP.py a2 {ncrypto}"
   ]
  },
  {
   "cell_type": "markdown",
   "id": "d9d41a6a",
   "metadata": {},
   "source": [
    "$\\beta_3$ with $\\tau_{SP}$"
   ]
  },
  {
   "cell_type": "code",
   "execution_count": 4,
   "id": "68e454d6",
   "metadata": {},
   "outputs": [
    {
     "name": "stdout",
     "output_type": "stream",
     "text": [
      "sat\n",
      "n = 10\n",
      "--- 0.019713878631591797 seconds ---\n",
      "sat\n",
      "n = 50\n",
      "--- 0.029113054275512695 seconds ---\n",
      "sat\n",
      "n = 100\n",
      "--- 0.0653388500213623 seconds ---\n",
      "sat\n",
      "n = 200\n",
      "--- 0.20505499839782715 seconds ---\n"
     ]
    }
   ],
   "source": [
    "for ncrypto in [10,50,100,200]:\n",
    "    !python z3dcSP.py a3 {ncrypto}"
   ]
  },
  {
   "cell_type": "markdown",
   "id": "10ba0c4f",
   "metadata": {},
   "source": [
    "## Example for DC with CVC5"
   ]
  },
  {
   "cell_type": "code",
   "execution_count": 8,
   "id": "dde4057f",
   "metadata": {},
   "outputs": [
    {
     "name": "stdout",
     "output_type": "stream",
     "text": [
      "unsat\n",
      "n = 10\n",
      "--- 0.018774986267089844 seconds ---\n",
      "unsat\n",
      "n = 50\n",
      "--- 0.4103419780731201 seconds ---\n",
      "unsat\n",
      "n = 100\n",
      "--- 3.597904920578003 seconds ---\n",
      "unsat\n",
      "n = 200\n",
      "--- 41.89947509765625 seconds ---\n"
     ]
    }
   ],
   "source": [
    "for ncrypto in [10,50,100,200]:\n",
    "    !python cvc5dc.py a2 {ncrypto}"
   ]
  },
  {
   "cell_type": "code",
   "execution_count": null,
   "id": "89d56874",
   "metadata": {},
   "outputs": [],
   "source": []
  }
 ],
 "metadata": {
  "kernelspec": {
   "display_name": "Python 3 (ipykernel)",
   "language": "python",
   "name": "python3"
  },
  "language_info": {
   "codemirror_mode": {
    "name": "ipython",
    "version": 3
   },
   "file_extension": ".py",
   "mimetype": "text/x-python",
   "name": "python",
   "nbconvert_exporter": "python",
   "pygments_lexer": "ipython3",
   "version": "3.8.3"
  }
 },
 "nbformat": 4,
 "nbformat_minor": 5
}
